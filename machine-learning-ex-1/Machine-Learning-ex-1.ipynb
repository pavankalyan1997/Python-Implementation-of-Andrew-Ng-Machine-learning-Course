{
 "cells": [
  {
   "cell_type": "markdown",
   "metadata": {},
   "source": [
    "#  Machine-Learning-ex-1"
   ]
  },
  {
   "cell_type": "code",
   "execution_count": 1,
   "metadata": {},
   "outputs": [],
   "source": [
    "import numpy as np\n",
    "import pandas as pd\n",
    "import matplotlib.pyplot as plt\n",
    "from numpy.linalg import matrix_rank"
   ]
  },
  {
   "cell_type": "markdown",
   "metadata": {},
   "source": [
    "# Linear Regression with One variable"
   ]
  },
  {
   "cell_type": "markdown",
   "metadata": {},
   "source": [
    "### Reading Data set"
   ]
  },
  {
   "cell_type": "code",
   "execution_count": 2,
   "metadata": {},
   "outputs": [],
   "source": [
    "def Read_data(dataset):\n",
    "    data=pd.read_csv(dataset,header=None)\n",
    "    data.head()\n",
    "    X=data.iloc[:,0].values\n",
    "    y=data.iloc[:,1].values\n",
    "    m=len(y)\n",
    "    return X,y,m"
   ]
  },
  {
   "cell_type": "code",
   "execution_count": 3,
   "metadata": {},
   "outputs": [],
   "source": [
    "X,y,m=Read_data('ex1data1.txt')"
   ]
  },
  {
   "cell_type": "markdown",
   "metadata": {},
   "source": [
    "## Plotting data set"
   ]
  },
  {
   "cell_type": "code",
   "execution_count": 4,
   "metadata": {},
   "outputs": [],
   "source": [
    "def plotData(X,y):\n",
    "    plt.scatter(X,y)\n",
    "    plt.xlabel('Population of city in 10,000s')\n",
    "    plt.ylabel('Profit in $10,000s')\n",
    "    plt.show()\n"
   ]
  },
  {
   "cell_type": "code",
   "execution_count": 5,
   "metadata": {},
   "outputs": [
    {
     "data": {
      "image/png": "[encoded data removed]",
      "text/plain": [
       "<Figure size 432x288 with 1 Axes>"
      ]
     },
     "metadata": {},
     "output_type": "display_data"
    }
   ],
   "source": [
    "plotData(X,y)"
   ]
  },
  {
   "cell_type": "markdown",
   "metadata": {},
   "source": [
    "## Intializing parameters and adding Intercept term"
   ]
  },
  {
   "cell_type": "code",
   "execution_count": 6,
   "metadata": {},
   "outputs": [],
   "source": [
    "def Initialize(X,y,dims,alpha_,iterations_):\n",
    "    if(matrix_rank(X)==1):\n",
    "        X=X[:,np.newaxis]\n",
    "    if(matrix_rank(y)==1):\n",
    "        y=y[:,np.newaxis]\n",
    "    m=len(y)\n",
    "    #theta=np.random.randn(2,1)\n",
    "    theta=np.zeros(dims)\n",
    "    ones=np.ones((m,1))\n",
    "    X=np.hstack((ones,X))\n",
    "    alpha=alpha_\n",
    "    iterations=iterations_\n",
    "    return X,y,theta,alpha,iterations\n",
    "    "
   ]
  },
  {
   "cell_type": "code",
   "execution_count": 7,
   "metadata": {},
   "outputs": [
    {
     "name": "stdout",
     "output_type": "stream",
     "text": [
      "Shape of X is : (97, 2)\n",
      "Shape of y is : (97, 1)\n",
      "Initial theta is :[[0.]\n",
      " [0.]]\n"
     ]
    }
   ],
   "source": [
    "X,y,theta,alpha,iterations=Initialize(X,y,dims=[2,1],alpha_=0.01,iterations_=1500)\n",
    "print(\"Shape of X is : \"+str(X.shape))\n",
    "print(\"Shape of y is : \"+str(y.shape))\n",
    "print(\"Initial theta is :\"+str(theta))"
   ]
  },
  {
   "cell_type": "markdown",
   "metadata": {},
   "source": [
    "## Compute Cost "
   ]
  },
  {
   "cell_type": "code",
   "execution_count": 8,
   "metadata": {},
   "outputs": [],
   "source": [
    "def computeCost(X,y,theta):\n",
    "    m=len(y)\n",
    "    error=np.dot(X,theta)-y\n",
    "    J=(1/(2*m))*np.sum(error**2)\n",
    "    return J"
   ]
  },
  {
   "cell_type": "code",
   "execution_count": 9,
   "metadata": {},
   "outputs": [
    {
     "name": "stdout",
     "output_type": "stream",
     "text": [
      "32.072733877455676\n"
     ]
    }
   ],
   "source": [
    "J=computeCost(X,y,theta)\n",
    "print(J)"
   ]
  },
  {
   "cell_type": "markdown",
   "metadata": {},
   "source": [
    "## Gradient Descent Implementation "
   ]
  },
  {
   "cell_type": "code",
   "execution_count": 10,
   "metadata": {},
   "outputs": [],
   "source": [
    "def gradientDescent(X,y,theta,alpha,num_iters):\n",
    "    m=len(y)\n",
    "    J_history=np.zeros([num_iters,1])\n",
    "    for iter in range(num_iters):\n",
    "        error=np.dot(X,theta)-y\n",
    "        temp=np.dot(X.T,error)\n",
    "        theta=theta-(alpha/m)*temp\n",
    "        J_history[iter]=computeCost(X,y,theta)\n",
    "        \n",
    "        if(iter%50==0):\n",
    "            print(\"Cost after \"+str(iter)+\"th iteration is: \"+str(J_history[iter]))\n",
    "    return theta,J_history"
   ]
  },
  {
   "cell_type": "code",
   "execution_count": 11,
   "metadata": {},
   "outputs": [
    {
     "name": "stdout",
     "output_type": "stream",
     "text": [
      "Cost after 0th iteration is: [6.73719046]\n",
      "Cost after 50th iteration is: [5.67396548]\n",
      "Cost after 100th iteration is: [5.47636282]\n",
      "Cost after 150th iteration is: [5.31138088]\n",
      "Cost after 200th iteration is: [5.17363455]\n",
      "Cost after 250th iteration is: [5.05862772]\n",
      "Cost after 300th iteration is: [4.96260649]\n",
      "Cost after 350th iteration is: [4.88243668]\n",
      "Cost after 400th iteration is: [4.81550149]\n",
      "Cost after 450th iteration is: [4.75961613]\n",
      "Cost after 500th iteration is: [4.71295645]\n",
      "Cost after 550th iteration is: [4.67399947]\n",
      "Cost after 600th iteration is: [4.6414736]\n",
      "Cost after 650th iteration is: [4.61431718]\n",
      "Cost after 700th iteration is: [4.5916438]\n",
      "Cost after 750th iteration is: [4.5727134]\n",
      "Cost after 800th iteration is: [4.55690808]\n",
      "Cost after 850th iteration is: [4.54371194]\n",
      "Cost after 900th iteration is: [4.53269424]\n",
      "Cost after 950th iteration is: [4.52349538]\n",
      "Cost after 1000th iteration is: [4.51581508]\n",
      "Cost after 1050th iteration is: [4.50940267]\n",
      "Cost after 1100th iteration is: [4.50404884]\n",
      "Cost after 1150th iteration is: [4.49957882]\n",
      "Cost after 1200th iteration is: [4.49584673]\n",
      "Cost after 1250th iteration is: [4.49273074]\n",
      "Cost after 1300th iteration is: [4.49012915]\n",
      "Cost after 1350th iteration is: [4.48795703]\n",
      "Cost after 1400th iteration is: [4.48614349]\n",
      "Cost after 1450th iteration is: [4.48462934]\n"
     ]
    }
   ],
   "source": [
    "theta,J_history=gradientDescent(X,y,theta,alpha,iterations)"
   ]
  },
  {
   "cell_type": "code",
   "execution_count": 12,
   "metadata": {},
   "outputs": [
    {
     "data": {
      "text/plain": [
       "array([[-3.63029144],\n",
       "       [ 1.16636235]])"
      ]
     },
     "execution_count": 12,
     "metadata": {},
     "output_type": "execute_result"
    }
   ],
   "source": [
    "theta"
   ]
  },
  {
   "cell_type": "code",
   "execution_count": 13,
   "metadata": {},
   "outputs": [],
   "source": [
    "def showPredictedPlot(X,y,theta):\n",
    "    plt.scatter(X[:,1],y)\n",
    "    plt.plot(X[:,1],np.dot(X,theta))\n",
    "    plt.xlabel('Population of city in 10,000s')\n",
    "    plt.ylabel('Profit in $10,000s')\n",
    "    plt.show()\n"
   ]
  },
  {
   "cell_type": "code",
   "execution_count": 14,
   "metadata": {},
   "outputs": [
    {
     "data": {
      "image/png": "[encoded data removed]",
      "text/plain": [
       "<Figure size 432x288 with 1 Axes>"
      ]
     },
     "metadata": {},
     "output_type": "display_data"
    }
   ],
   "source": [
    "showPredictedPlot(X,y,theta)"
   ]
  },
  {
   "cell_type": "markdown",
   "metadata": {},
   "source": [
    "# Linear Regression with Multiple variables"
   ]
  },
  {
   "cell_type": "code",
   "execution_count": 15,
   "metadata": {},
   "outputs": [],
   "source": [
    "def read_Data(dataset):\n",
    "    data=pd.read_csv(dataset,sep=',',header=None)\n",
    "    X=data.iloc[:,0:2].values\n",
    "    y=data.iloc[:,2]\n",
    "    return X,y"
   ]
  },
  {
   "cell_type": "code",
   "execution_count": 16,
   "metadata": {},
   "outputs": [],
   "source": [
    "X,y=read_Data('ex1data2.txt')"
   ]
  },
  {
   "cell_type": "code",
   "execution_count": 17,
   "metadata": {},
   "outputs": [],
   "source": [
    "def featureNormalization(X):\n",
    "    X=(X-np.mean(X))/(np.std(X))\n",
    "    return X"
   ]
  },
  {
   "cell_type": "code",
   "execution_count": 18,
   "metadata": {},
   "outputs": [],
   "source": [
    "X=featureNormalization(X)\n",
    "y=featureNormalization(y)"
   ]
  },
  {
   "cell_type": "code",
   "execution_count": 19,
   "metadata": {},
   "outputs": [
    {
     "name": "stdout",
     "output_type": "stream",
     "text": [
      "Shape of X is : (47, 3)\n",
      "Shape of y is : (47, 1)\n",
      "Initial theta is :[[0.]\n",
      " [0.]\n",
      " [0.]]\n"
     ]
    }
   ],
   "source": [
    "X,y,theta,alpha,iterations=Initialize(X,y,dims=[3,1],alpha_=0.01,iterations_=1500)\n",
    "print(\"Shape of X is : \"+str(X.shape))\n",
    "print(\"Shape of y is : \"+str(y.shape))\n",
    "print(\"Initial theta is :\"+str(theta))"
   ]
  },
  {
   "cell_type": "code",
   "execution_count": 20,
   "metadata": {},
   "outputs": [
    {
     "name": "stdout",
     "output_type": "stream",
     "text": [
      "0.5000000000000001\n"
     ]
    }
   ],
   "source": [
    "J=computeCost(X,y,theta)\n",
    "print(J)"
   ]
  },
  {
   "cell_type": "code",
   "execution_count": 22,
   "metadata": {},
   "outputs": [
    {
     "name": "stdout",
     "output_type": "stream",
     "text": [
      "Cost after 0th iteration is: [0.1345413]\n",
      "Cost after 50th iteration is: [0.13453323]\n",
      "Cost after 100th iteration is: [0.13452732]\n",
      "Cost after 150th iteration is: [0.13452298]\n",
      "Cost after 200th iteration is: [0.13451981]\n",
      "Cost after 250th iteration is: [0.13451748]\n",
      "Cost after 300th iteration is: [0.13451577]\n",
      "Cost after 350th iteration is: [0.13451452]\n",
      "Cost after 400th iteration is: [0.13451361]\n",
      "Cost after 450th iteration is: [0.13451294]\n",
      "Cost after 500th iteration is: [0.13451244]\n",
      "Cost after 550th iteration is: [0.13451208]\n",
      "Cost after 600th iteration is: [0.13451182]\n",
      "Cost after 650th iteration is: [0.13451162]\n",
      "Cost after 700th iteration is: [0.13451148]\n",
      "Cost after 750th iteration is: [0.13451138]\n",
      "Cost after 800th iteration is: [0.1345113]\n",
      "Cost after 850th iteration is: [0.13451125]\n",
      "Cost after 900th iteration is: [0.1345112]\n",
      "Cost after 950th iteration is: [0.13451117]\n",
      "Cost after 1000th iteration is: [0.13451115]\n",
      "Cost after 1050th iteration is: [0.13451114]\n",
      "Cost after 1100th iteration is: [0.13451112]\n",
      "Cost after 1150th iteration is: [0.13451111]\n",
      "Cost after 1200th iteration is: [0.13451111]\n",
      "Cost after 1250th iteration is: [0.1345111]\n",
      "Cost after 1300th iteration is: [0.1345111]\n",
      "Cost after 1350th iteration is: [0.1345111]\n",
      "Cost after 1400th iteration is: [0.1345111]\n",
      "Cost after 1450th iteration is: [0.13451109]\n"
     ]
    }
   ],
   "source": [
    "theta,J_history=gradientDescent(X,y,theta,alpha,iterations)"
   ]
  },
  {
   "cell_type": "code",
   "execution_count": 23,
   "metadata": {},
   "outputs": [
    {
     "name": "stdout",
     "output_type": "stream",
     "text": [
      "0.13451109243496218\n"
     ]
    }
   ],
   "source": [
    "print(computeCost(X,y,theta))"
   ]
  },
  {
   "cell_type": "code",
   "execution_count": null,
   "metadata": {},
   "outputs": [],
   "source": []
  }
 ],
 "metadata": {
  "kernelspec": {
   "display_name": "Python 3",
   "language": "python",
   "name": "python3"
  },
  "language_info": {
   "codemirror_mode": {
    "name": "ipython",
    "version": 3
   },
   "file_extension": ".py",
   "mimetype": "text/x-python",
   "name": "python",
   "nbconvert_exporter": "python",
   "pygments_lexer": "ipython3",
   "version": "3.6.5"
  }
 },
 "nbformat": 4,
 "nbformat_minor": 2
}
